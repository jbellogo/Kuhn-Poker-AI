{
 "cells": [
  {
   "cell_type": "markdown",
   "id": "5958e2a7-508c-4749-86bc-e230a1efc46c",
   "metadata": {},
   "source": [
    "# CFR minimization \n",
    "entirely based off https://github.com/int8/counterfactual-regret-minimization/blob/master/games/algorithms.py "
   ]
  },
  {
   "cell_type": "code",
   "execution_count": 16,
   "id": "b4eeeb08-3af3-4d45-aa33-a853e11720e1",
   "metadata": {},
   "outputs": [
    {
     "name": "stdout",
     "output_type": "stream",
     "text": [
      "Current sys.path: ['/Users/juanbello/Desktop/studies/CO/CO 456 - Game Theory/project', '/opt/anaconda3/lib/python312.zip', '/opt/anaconda3/lib/python3.12', '/opt/anaconda3/lib/python3.12/lib-dynload', '', '/opt/anaconda3/lib/python3.12/site-packages', '/opt/anaconda3/lib/python3.12/site-packages/aeosa', '/opt/anaconda3/lib/python3.12/site-packages/setuptools/_vendor', '/path/to/your/directory']\n",
      "Updated sys.path: ['/Users/juanbello/Desktop/studies/CO/CO 456 - Game Theory/project', '/opt/anaconda3/lib/python312.zip', '/opt/anaconda3/lib/python3.12', '/opt/anaconda3/lib/python3.12/lib-dynload', '', '/opt/anaconda3/lib/python3.12/site-packages', '/opt/anaconda3/lib/python3.12/site-packages/aeosa', '/opt/anaconda3/lib/python3.12/site-packages/setuptools/_vendor', '/path/to/your/directory', '/Users/juanbello/Desktop/studies/CO/CO 456 - Game Theory/project/code/cfr']\n"
     ]
    }
   ],
   "source": [
    "import sys\n",
    "\n",
    "# Get the current system path\n",
    "current_sys_path = sys.path\n",
    "print(\"Current sys.path:\", current_sys_path)\n",
    "\n",
    "# Append a new path to the system path\n",
    "new_path = '/Users/juanbello/Desktop/studies/CO/CO 456 - Game Theory/project/code/cfr'\n",
    "if new_path not in sys.path:  # Avoid duplicates\n",
    "    sys.path.append(new_path)\n",
    "\n",
    "# Verify the updated system path\n",
    "print(\"Updated sys.path:\", sys.path)"
   ]
  },
  {
   "cell_type": "code",
   "execution_count": 22,
   "id": "0d10ed4c-5113-4024-8424-5cdbed5e6a85",
   "metadata": {},
   "outputs": [],
   "source": [
    "\n",
    "from common.constants import CARDS_DEALINGS\n",
    "from games.kuhn import KuhnRootChanceGameState\n",
    "from games.algorithms import CFR\n"
   ]
  },
  {
   "cell_type": "code",
   "execution_count": 24,
   "id": "e204b57c-2180-4e91-9a49-4b3bca9dc97d",
   "metadata": {},
   "outputs": [],
   "source": [
    "\n",
    "root = KuhnRootChanceGameState(CARDS_DEALINGS)\n",
    "\n",
    "# vanilla cfr\n",
    "vanilla_cfr = CFR(root)\n",
    "vanilla_cfr.run(iterations = 1000)\n",
    "vanilla_cfr.compute_nash_equilibrium()\n",
    "\n",
    "# read Nash-Equilibrum via vanilla_cfr.nash_equilibrium member\n",
    "# try vanilla_cfr.value_of_the_game() function to get value of the game (-1/18)\n"
   ]
  },
  {
   "cell_type": "code",
   "execution_count": 28,
   "id": "379dad23-6e1b-4626-9c10-1f857a2bf1aa",
   "metadata": {},
   "outputs": [],
   "source": [
    "ne = vanilla_cfr.nash_equilibrium"
   ]
  },
  {
   "cell_type": "code",
   "execution_count": 32,
   "id": "01f0cacd-2aa6-474b-bfa5-aa147c463fa2",
   "metadata": {},
   "outputs": [
    {
     "name": "stdout",
     "output_type": "stream",
     "text": [
      "{'.': {'JK': 0.16666666666666666,\n",
      "       'JQ': 0.16666666666666666,\n",
      "       'KJ': 0.16666666666666666,\n",
      "       'KQ': 0.16666666666666666,\n",
      "       'QJ': 0.16666666666666666,\n",
      "       'QK': 0.16666666666666666},\n",
      " '.J.': {'BET': 0.20100867105688588, 'CHECK': 0.7989913289431141},\n",
      " '.J.BET': {'CALL': 0.0005, 'FOLD': 0.9995},\n",
      " '.J.BET.CALL': {},\n",
      " '.J.BET.FOLD': {},\n",
      " '.J.CHECK': {'BET': 0.32768883386016545, 'CHECK': 0.6723111661398344},\n",
      " '.J.CHECK.BET': {'CALL': 0.0003128945095445452, 'FOLD': 0.9996871054904555},\n",
      " '.J.CHECK.BET.CALL': {},\n",
      " '.J.CHECK.BET.FOLD': {},\n",
      " '.J.CHECK.CHECK': {},\n",
      " '.K.': {'BET': 0.5984729442242733, 'CHECK': 0.4015270557757267},\n",
      " '.K.BET': {'CALL': 0.9995, 'FOLD': 0.0005},\n",
      " '.K.BET.CALL': {},\n",
      " '.K.BET.FOLD': {},\n",
      " '.K.CHECK': {'BET': 0.9995, 'CHECK': 0.0005},\n",
      " '.K.CHECK.BET': {'CALL': 0.9993773769503104, 'FOLD': 0.0006226230496896772},\n",
      " '.K.CHECK.BET.CALL': {},\n",
      " '.K.CHECK.BET.FOLD': {},\n",
      " '.K.CHECK.CHECK': {},\n",
      " '.Q.': {'BET': 0.0034583333333333332, 'CHECK': 0.9965416666666667},\n",
      " '.Q.BET': {'CALL': 0.3687903071365851, 'FOLD': 0.6312096928634149},\n",
      " '.Q.BET.CALL': {},\n",
      " '.Q.BET.FOLD': {},\n",
      " '.Q.CHECK': {'BET': 0.0037727272727272726, 'CHECK': 0.9962272727272727},\n",
      " '.Q.CHECK.BET': {'CALL': 0.5680283375978771, 'FOLD': 0.43197166240212287},\n",
      " '.Q.CHECK.BET.CALL': {},\n",
      " '.Q.CHECK.BET.FOLD': {},\n",
      " '.Q.CHECK.CHECK': {}}\n"
     ]
    }
   ],
   "source": [
    "from pprint import pprint\n",
    "pprint(ne)"
   ]
  },
  {
   "cell_type": "code",
   "execution_count": 38,
   "id": "33e82939-93d1-4f97-84bf-cc90f6976b50",
   "metadata": {},
   "outputs": [],
   "source": [
    "P1_actions = {\n",
    "    'J' : ne['.J.'],\n",
    "    'K' : ne['.K.'], \n",
    "    'Q' : ne['.Q.'],\n",
    "    'J.CHECK.BET': ne['.J.CHECK.BET'],\n",
    "    'Q.CHECK.BET': ne['.Q.CHECK.BET'],\n",
    "    'K.CHECK.BET': ne['.K.CHECK.BET']\n",
    "}\n",
    "\n",
    "P2_actions = {\n",
    "    'J.BET' : ne['.J.BET'],\n",
    "    'J.CHECK' : ne['.J.CHECK'],\n",
    "    'Q.BET' : ne['.Q.BET'],\n",
    "    'Q.CHECK' : ne['.Q.CHECK'],\n",
    "    'K.BET' : ne['.K.BET'],\n",
    "    'K.CHECK' : ne['.K.CHECK'],\n",
    "\n",
    "}"
   ]
  },
  {
   "cell_type": "code",
   "execution_count": 36,
   "id": "35b3df9b-9bb5-4a0a-8d0d-c6e5c60c17d8",
   "metadata": {},
   "outputs": [
    {
     "data": {
      "text/plain": [
       "{'J': {'BET': 0.20100867105688588, 'CHECK': 0.7989913289431141},\n",
       " 'K': {'BET': 0.5984729442242733, 'CHECK': 0.4015270557757267},\n",
       " 'Q': {'BET': 0.0034583333333333332, 'CHECK': 0.9965416666666667},\n",
       " 'J.CHECK.BET': {'CALL': 0.0003128945095445452, 'FOLD': 0.9996871054904555},\n",
       " 'Q.CHECK.BET': {'CALL': 0.5680283375978771, 'FOLD': 0.43197166240212287},\n",
       " 'K.CHECK.BET': {'CALL': 0.9993773769503104, 'FOLD': 0.0006226230496896772}}"
      ]
     },
     "execution_count": 36,
     "metadata": {},
     "output_type": "execute_result"
    }
   ],
   "source": [
    "P1_actions"
   ]
  },
  {
   "cell_type": "code",
   "execution_count": 40,
   "id": "1f3ab8f1-95f1-4954-9f9f-e8d2151ed510",
   "metadata": {},
   "outputs": [
    {
     "data": {
      "text/plain": [
       "{'J.BET': {'FOLD': 0.9995, 'CALL': 0.0005},\n",
       " 'J.CHECK': {'BET': 0.32768883386016545, 'CHECK': 0.6723111661398344},\n",
       " 'Q.BET': {'FOLD': 0.6312096928634149, 'CALL': 0.3687903071365851},\n",
       " 'Q.CHECK': {'BET': 0.0037727272727272726, 'CHECK': 0.9962272727272727},\n",
       " 'K.BET': {'FOLD': 0.0005, 'CALL': 0.9995},\n",
       " 'K.CHECK': {'BET': 0.9995, 'CHECK': 0.0005}}"
      ]
     },
     "execution_count": 40,
     "metadata": {},
     "output_type": "execute_result"
    }
   ],
   "source": [
    "P2_actions"
   ]
  },
  {
   "cell_type": "code",
   "execution_count": null,
   "id": "e3dcadb2-cd89-48dd-b7a6-21176d572217",
   "metadata": {},
   "outputs": [],
   "source": []
  }
 ],
 "metadata": {
  "kernelspec": {
   "display_name": "Python 3 (ipykernel)",
   "language": "python",
   "name": "python3"
  },
  "language_info": {
   "codemirror_mode": {
    "name": "ipython",
    "version": 3
   },
   "file_extension": ".py",
   "mimetype": "text/x-python",
   "name": "python",
   "nbconvert_exporter": "python",
   "pygments_lexer": "ipython3",
   "version": "3.12.7"
  }
 },
 "nbformat": 4,
 "nbformat_minor": 5
}
